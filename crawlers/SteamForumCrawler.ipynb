{
 "cells": [
  {
   "cell_type": "code",
   "execution_count": null,
   "metadata": {},
   "outputs": [],
   "source": [
    "from selenium import webdriver\n",
    "from selenium.webdriver.common.by import By\n",
    "from selenium.webdriver.support.ui import WebDriverWait\n",
    "from selenium.webdriver.support import expected_conditions as EC\n",
    "from bs4 import BeautifulSoup\n",
    "from datetime import datetime, timedelta\n",
    "import pandas as pd\n",
    "import time\n",
    "from selenium.common.exceptions import WebDriverException"
   ]
  },
  {
   "cell_type": "code",
   "execution_count": null,
   "metadata": {},
   "outputs": [],
   "source": [
    "driver = webdriver.Chrome()  # Or webdriver.Firefox(), depending on your browser\n",
    "\n",
    "# Open the website, it has to be within each forum because the next button has a different structure on each forum page\n",
    "driver.get('https://steamcommunity.com/discussions/forum/30/')\n",
    "\n",
    "while True:\n",
    "    topics = WebDriverWait(driver, 10).until(EC.presence_of_all_elements_located((By.CLASS_NAME, 'forum_topic_overlay')))\n",
    "\n",
    "    for j in range(len(topics)):\n",
    "        topics = WebDriverWait(driver, 10).until(EC.presence_of_all_elements_located((By.CLASS_NAME, 'forum_topic_overlay')))\n",
    "        topic = topics[j]\n",
    "\n",
    "        parent = topic.find_element(By.XPATH, './..')\n",
    "\n",
    "        WebDriverWait(parent, 10).until(EC.presence_of_element_located((By.CLASS_NAME, 'forum_topic_icon')))\n",
    "        topic_icon_div = parent.find_element(By.CLASS_NAME, 'forum_topic_icon')\n",
    "        if topic_icon_div.get_attribute('title') == \"This thread is pinned.\" :\n",
    "            continue\n",
    "        elif topic_icon_div.get_attribute('title') == \"This thread is locked.\" :\n",
    "            continue  \n",
    "\n",
    "        topic.click()\n",
    "        time.sleep(2)\n",
    "\n",
    "        initial_post_date_element = WebDriverWait(driver, 10).until(EC.presence_of_element_located((By.CLASS_NAME, 'date')))\n",
    "        date_str = initial_post_date_element.get_attribute('title').split(\"@\")[0].strip()\n",
    "\n",
    "        date = datetime.strptime(date_str, '%B %d, %Y') \n",
    "\n",
    "        six_months_ago = datetime.now() - timedelta(days=182)\n",
    "\n",
    "        if date < six_months_ago:\n",
    "            driver.back() \n",
    "            time.sleep(2)\n",
    "            continue\n",
    "\n",
    "        # Parse the first page of comments\n",
    "        soup = BeautifulSoup(driver.page_source, 'html.parser')\n",
    "        comments = soup.find_all('div', {'class': 'commentthread_comment_text'})\n",
    "\n",
    "        for comment in comments:\n",
    "            comment_content = comment.text.strip()\n",
    "\n",
    "            if 50 < len(comment_content) < 3000:\n",
    "                df = pd.DataFrame([{'comment': comment_content}])\n",
    "                df.to_csv('Test.csv', mode='a', header=False, index=False)\n",
    "\n",
    "        # Go back to the list of topics\n",
    "        driver.back() \n",
    "        time.sleep(2)\n",
    "\n",
    "    # Go to the next page of topics\n",
    "    try:\n",
    "        next_topic_page = WebDriverWait(driver, 10).until(EC.presence_of_element_located((By.ID, 'forum_General_4009259_30_pagebtn_next')))\n",
    "        next_topic_page.click()\n",
    "        time.sleep(2)\n",
    "    except WebDriverException:\n",
    "        break  \n",
    "\n",
    "driver.quit()  # Close the driver when done\n"
   ]
  }
 ],
 "metadata": {
  "kernelspec": {
   "display_name": "Python 3 (ipykernel)",
   "language": "python",
   "name": "python3"
  },
  "language_info": {
   "codemirror_mode": {
    "name": "ipython",
    "version": 3
   },
   "file_extension": ".py",
   "mimetype": "text/x-python",
   "name": "python",
   "nbconvert_exporter": "python",
   "pygments_lexer": "ipython3",
   "version": "3.9.12"
  },
  "vscode": {
   "interpreter": {
    "hash": "aee8b7b246df8f9039afb4144a1f6fd8d2ca17a180786b69acc140d282b71a49"
   }
  }
 },
 "nbformat": 4,
 "nbformat_minor": 4
}
