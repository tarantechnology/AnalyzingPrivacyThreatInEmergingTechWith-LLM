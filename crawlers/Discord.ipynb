{
 "cells": [
  {
   "cell_type": "code",
   "execution_count": 24,
   "metadata": {},
   "outputs": [
    {
     "name": "stdout",
     "output_type": "stream",
     "text": [
      "number of messages we collected is 216224\n"
     ]
    }
   ],
   "source": [
    "import requests\n",
    "import json\n",
    "import datetime\n",
    "import csv\n",
    "import pytz  # New import\n",
    "link = \"https://discord.com/channels/134286179121102848/211187501153386496\"#put channel link here\n",
    "\n",
    "\n",
    "disc = ''#place discord name here\n",
    "\n",
    "def retrieve_messages(channelid):\n",
    "    num = 0\n",
    "    limit = 100  # Maximum limit allowed by the Discord API\n",
    "\n",
    "    headers = {\n",
    "        'authorization': '' # Place your token here\n",
    "    }\n",
    "\n",
    "    six_months_ago = datetime.datetime.now(pytz.utc) - datetime.timedelta(6*365/12)  # Now aware\n",
    "    \n",
    "    last_message_id = None\n",
    "\n",
    "    with open(str(disc)+'.csv', 'w', newline='', encoding='utf-8') as file:\n",
    "        writer = csv.writer(file)\n",
    "        writer.writerow([\"Timestamp\", \"comment\"])\n",
    "\n",
    "        while True:\n",
    "            query_parameters = f'limit={limit}'\n",
    "            if last_message_id is not None:\n",
    "                query_parameters += f'&before={last_message_id}'\n",
    "\n",
    "            r = requests.get(\n",
    "                f'https://discord.com/api/v9/channels/{channelid}/messages?{query_parameters}', headers=headers\n",
    "                )\n",
    "            jsonn = json.loads(r.text)\n",
    "            if len(jsonn) == 0:\n",
    "                break\n",
    "\n",
    "            for value in jsonn:\n",
    "                try:\n",
    "                    message_date = datetime.datetime.strptime(value['timestamp'], \"%Y-%m-%dT%H:%M:%S.%f%z\")\n",
    "                except ValueError:  \n",
    "                    message_date = datetime.datetime.strptime(value['timestamp'], \"%Y-%m-%dT%H:%M:%S%z\")\n",
    "                if message_date < six_months_ago:\n",
    "                    print('number of messages we collected is', num)\n",
    "                    return\n",
    "                writer.writerow([value['timestamp'], value['content']])\n",
    "                last_message_id = value['id']\n",
    "                num=num+1\n",
    "        print('number of messages we collected is',num)\n",
    "\n",
    "retrieve_messages('211187501153386496') # Place your channel ID here"
   ]
  },
  {
   "cell_type": "code",
   "execution_count": 25,
   "metadata": {},
   "outputs": [],
   "source": [
    "import pandas as pd\n",
    "import re\n",
    "from cleantext import clean\n",
    "\n",
    "df = pd.read_csv(str(disc)+'.csv')\n",
    "\n",
    "def preprocess_comments(text):\n",
    "    if pd.isna(text):\n",
    "        return None\n",
    "\n",
    "    # remove URLs\n",
    "    text = re.sub(r'http\\S+', '', text)\n",
    "\n",
    "    # remove comments with \"you just advanced to level\"\n",
    "    if \"you just advanced to level\" in text:\n",
    "        return None\n",
    "    \n",
    "    # remove anything within \"<\" \">\" symbols\n",
    "    text = re.sub(r'<[^>]*>', '', text)\n",
    "\n",
    "    # remove emojis\n",
    "    text = clean(text, no_emoji=True)\n",
    "\n",
    "    #remove comments with unecessary new lines\n",
    "    if '\\n' in text or '\\r' in text:\n",
    "        return None\n",
    "\n",
    "    # Set a limit of minimum 5 and maximum 3000 characters\n",
    "    if len(text) < 50 or len(text) > 3000:\n",
    "        return None\n",
    "\n",
    "    emoji_pattern = re.compile(\"[\"\n",
    "                           u\"\\U0001F600-\\U0001F64F\"  # emoticons\n",
    "                           u\"\\U0001F300-\\U0001F5FF\"  # symbols & pictographs\n",
    "                           u\"\\U0001F680-\\U0001F6FF\"  # transport & map symbols\n",
    "                           u\"\\U0001F1E0-\\U0001F1FF\"  # flags (iOS)\n",
    "                           u\"\\U00002702-\\U000027B0\"\n",
    "                           u\"\\U000024C2-\\U0001F251\"\n",
    "                           \"]+\", flags=re.UNICODE)\n",
    "    return emoji_pattern.sub(r'', text)\n",
    "\n",
    "# apply preprocessing function to 'comment' column\n",
    "df['comment'] = df['comment'].apply(preprocess_comments)\n",
    "\n",
    "# remove rows with empty messages\n",
    "df = df.dropna(subset=['comment'])\n",
    "\n",
    "# save the DataFrame to CSV file\n",
    "df.to_csv(str(disc)+'.csv', index=False)\n"
   ]
  }
 ],
 "metadata": {
  "kernelspec": {
   "display_name": "Python 3 (ipykernel)",
   "language": "python",
   "name": "python3"
  },
  "language_info": {
   "codemirror_mode": {
    "name": "ipython",
    "version": 3
   },
   "file_extension": ".py",
   "mimetype": "text/x-python",
   "name": "python",
   "nbconvert_exporter": "python",
   "pygments_lexer": "ipython3",
   "version": "3.9.12"
  },
  "vscode": {
   "interpreter": {
    "hash": "aee8b7b246df8f9039afb4144a1f6fd8d2ca17a180786b69acc140d282b71a49"
   }
  }
 },
 "nbformat": 4,
 "nbformat_minor": 4
}
